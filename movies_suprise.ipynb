{
 "cells": [
  {
   "cell_type": "code",
   "execution_count": 30,
   "id": "09432639",
   "metadata": {},
   "outputs": [],
   "source": [
    "from surprise import SVD\n",
    "from surprise import Dataset\n",
    "from surprise.model_selection import cross_validate\n",
    "from surprise import Reader\n",
    "from surprise import accuracy\n",
    "from surprise import KNNBasic\n",
    "from surprise.model_selection import KFold\n",
    "from surprise.model_selection import cross_validate\n",
    "from surprise.model_selection import train_test_split\n",
    "import matplotlib.pyplot as plt"
   ]
  },
  {
   "cell_type": "code",
   "execution_count": 2,
   "id": "7971d750",
   "metadata": {},
   "outputs": [],
   "source": [
    "%matplotlib inline\n",
    "import pandas as pd\n",
    "from surprise import BaselineOnly, Dataset, Reader"
   ]
  },
  {
   "cell_type": "code",
   "execution_count": 3,
   "id": "64900c4a",
   "metadata": {},
   "outputs": [],
   "source": [
    "movies_df = pd.read_csv('movies.csv')\n",
    "ratings_df = pd.read_csv('ratings.csv')"
   ]
  },
  {
   "cell_type": "code",
   "execution_count": 4,
   "id": "57ea0bec",
   "metadata": {},
   "outputs": [],
   "source": [
    "reader = Reader(line_format=\"user item rating timestamp\", sep=\",\", skip_lines=1)\n",
    "data = Dataset.load_from_df(ratings_df[['userId', 'movieId', 'rating']], reader)"
   ]
  },
  {
   "cell_type": "code",
   "execution_count": 5,
   "id": "4a858505",
   "metadata": {},
   "outputs": [
    {
     "data": {
      "text/plain": [
       "<surprise.dataset.DatasetAutoFolds at 0x7fddeb1027f0>"
      ]
     },
     "execution_count": 5,
     "metadata": {},
     "output_type": "execute_result"
    }
   ],
   "source": [
    "data"
   ]
  },
  {
   "cell_type": "code",
   "execution_count": 6,
   "id": "8f859896",
   "metadata": {},
   "outputs": [],
   "source": [
    "algo = SVD()"
   ]
  },
  {
   "cell_type": "code",
   "execution_count": 7,
   "id": "05b665da",
   "metadata": {},
   "outputs": [
    {
     "name": "stdout",
     "output_type": "stream",
     "text": [
      "Evaluating RMSE, MAE of algorithm SVD on 5 split(s).\n",
      "\n",
      "                  Fold 1  Fold 2  Fold 3  Fold 4  Fold 5  Mean    Std     \n",
      "RMSE (testset)    0.8777  0.8730  0.8691  0.8771  0.8750  0.8744  0.0031  \n",
      "MAE (testset)     0.6745  0.6692  0.6692  0.6727  0.6720  0.6715  0.0021  \n",
      "Fit time          0.79    0.74    0.74    0.84    1.08    0.84    0.13    \n",
      "Test time         0.13    0.23    0.11    0.19    0.21    0.17    0.05    \n"
     ]
    },
    {
     "data": {
      "text/plain": [
       "{'test_rmse': array([0.87768766, 0.87302878, 0.86905958, 0.87707205, 0.87495487]),\n",
       " 'test_mae': array([0.67452187, 0.66920675, 0.66919833, 0.67274699, 0.67198626]),\n",
       " 'fit_time': (0.7880063056945801,\n",
       "  0.7396187782287598,\n",
       "  0.739948034286499,\n",
       "  0.8402972221374512,\n",
       "  1.0839080810546875),\n",
       " 'test_time': (0.12561678886413574,\n",
       "  0.2313861846923828,\n",
       "  0.11204409599304199,\n",
       "  0.19197535514831543,\n",
       "  0.20833611488342285)}"
      ]
     },
     "execution_count": 7,
     "metadata": {},
     "output_type": "execute_result"
    }
   ],
   "source": [
    "cross_validate(algo, data, measures=['RMSE', 'MAE'], cv=5, verbose=True)"
   ]
  },
  {
   "cell_type": "code",
   "execution_count": 8,
   "id": "c86765de",
   "metadata": {},
   "outputs": [
    {
     "name": "stdout",
     "output_type": "stream",
     "text": [
      "RMSE: 0.8774\n"
     ]
    },
    {
     "data": {
      "text/plain": [
       "0.8774009470281536"
      ]
     },
     "execution_count": 8,
     "metadata": {},
     "output_type": "execute_result"
    }
   ],
   "source": [
    "trainset, testset = train_test_split(data, test_size=.25)\n",
    "\n",
    "# We'll use the famous SVD algorithm.\n",
    "algo = SVD()\n",
    "\n",
    "# Train the algorithm on the trainset, and predict ratings for the testset\n",
    "algo.fit(trainset)\n",
    "predictions = algo.test(testset)\n",
    "\n",
    "# Then compute RMSE\n",
    "accuracy.rmse(predictions)"
   ]
  },
  {
   "cell_type": "code",
   "execution_count": 9,
   "id": "5e3f0f15",
   "metadata": {},
   "outputs": [
    {
     "name": "stdout",
     "output_type": "stream",
     "text": [
      "Computing the cosine similarity matrix...\n",
      "Done computing similarity matrix.\n",
      "Computing the cosine similarity matrix...\n",
      "Done computing similarity matrix.\n",
      "Computing the cosine similarity matrix...\n",
      "Done computing similarity matrix.\n",
      "Computing the cosine similarity matrix...\n",
      "Done computing similarity matrix.\n",
      "Computing the cosine similarity matrix...\n",
      "Done computing similarity matrix.\n",
      "Evaluating RMSE, MAE of algorithm KNNBasic on 5 split(s).\n",
      "\n",
      "                  Fold 1  Fold 2  Fold 3  Fold 4  Fold 5  Mean    Std     \n",
      "RMSE (testset)    0.9802  0.9756  0.9726  0.9832  0.9706  0.9764  0.0047  \n",
      "MAE (testset)     0.7643  0.7608  0.7580  0.7660  0.7564  0.7611  0.0036  \n",
      "Fit time          8.25    6.55    4.97    5.38    5.77    6.19    1.16    \n",
      "Test time         7.31    6.56    6.15    6.73    7.25    6.80    0.43    \n"
     ]
    },
    {
     "data": {
      "text/plain": [
       "{'test_rmse': array([0.98018449, 0.97561612, 0.97256106, 0.98324939, 0.97057917]),\n",
       " 'test_mae': array([0.76432154, 0.76083286, 0.7579828 , 0.76603251, 0.75640359]),\n",
       " 'fit_time': (8.252748966217041,\n",
       "  6.554538011550903,\n",
       "  4.974861145019531,\n",
       "  5.383819103240967,\n",
       "  5.772733211517334),\n",
       " 'test_time': (7.309327125549316,\n",
       "  6.562600135803223,\n",
       "  6.154599905014038,\n",
       "  6.732519149780273,\n",
       "  7.252341270446777)}"
      ]
     },
     "execution_count": 9,
     "metadata": {},
     "output_type": "execute_result"
    }
   ],
   "source": [
    "sim_options = {'name': 'cosine',\n",
    "               'user_based': False  # compute  similarities between items\n",
    "               }\n",
    "algo = KNNBasic(sim_options=sim_options)\n",
    "# Run 5-fold cross-validation and print results\n",
    "cross_validate(algo, data, measures=['RMSE', 'MAE'], cv=5, verbose=True)"
   ]
  },
  {
   "cell_type": "code",
   "execution_count": 10,
   "id": "2bfad301",
   "metadata": {},
   "outputs": [
    {
     "name": "stdout",
     "output_type": "stream",
     "text": [
      "Estimating biases using als...\n",
      "Computing the pearson_baseline similarity matrix...\n",
      "Done computing similarity matrix.\n",
      "Estimating biases using als...\n",
      "Computing the pearson_baseline similarity matrix...\n",
      "Done computing similarity matrix.\n",
      "Estimating biases using als...\n",
      "Computing the pearson_baseline similarity matrix...\n",
      "Done computing similarity matrix.\n",
      "Estimating biases using als...\n",
      "Computing the pearson_baseline similarity matrix...\n",
      "Done computing similarity matrix.\n",
      "Estimating biases using als...\n",
      "Computing the pearson_baseline similarity matrix...\n",
      "Done computing similarity matrix.\n",
      "Evaluating RMSE, MAE of algorithm KNNBasic on 5 split(s).\n",
      "\n",
      "                  Fold 1  Fold 2  Fold 3  Fold 4  Fold 5  Mean    Std     \n",
      "RMSE (testset)    0.9170  0.9210  0.9245  0.9156  0.9078  0.9172  0.0056  \n",
      "MAE (testset)     0.6941  0.7000  0.6965  0.6947  0.6912  0.6953  0.0029  \n",
      "Fit time          5.72    5.33    6.21    9.78    26.00   10.61   7.86    \n",
      "Test time         5.84    6.17    21.84   9.37    12.93   11.23   5.89    \n"
     ]
    },
    {
     "data": {
      "text/plain": [
       "{'test_rmse': array([0.91700205, 0.92101554, 0.92449696, 0.91557991, 0.90783797]),\n",
       " 'test_mae': array([0.69412461, 0.69997084, 0.69648986, 0.69474262, 0.69115735]),\n",
       " 'fit_time': (5.723731994628906,\n",
       "  5.326869964599609,\n",
       "  6.209697008132935,\n",
       "  9.775044918060303,\n",
       "  25.99726104736328),\n",
       " 'test_time': (5.840669870376587,\n",
       "  6.169487237930298,\n",
       "  21.83728313446045,\n",
       "  9.370845079421997,\n",
       "  12.931885957717896)}"
      ]
     },
     "execution_count": 10,
     "metadata": {},
     "output_type": "execute_result"
    }
   ],
   "source": [
    "sim_options = {'name': 'pearson_baseline',\n",
    "               'user_based': False  # compute  similarities between items\n",
    "               }\n",
    "algo = KNNBasic(sim_options=sim_options)\n",
    "# Run 5-fold cross-validation and print results\n",
    "cross_validate(algo, data, measures=['RMSE', 'MAE'], cv=5, verbose=True)"
   ]
  },
  {
   "cell_type": "code",
   "execution_count": 11,
   "id": "19984391",
   "metadata": {},
   "outputs": [
    {
     "name": "stdout",
     "output_type": "stream",
     "text": [
      "Estimating biases using sgd...\n",
      "Estimating biases using sgd...\n",
      "Estimating biases using sgd...\n",
      "Estimating biases using sgd...\n",
      "Estimating biases using sgd...\n",
      "Evaluating RMSE, MAE of algorithm BaselineOnly on 5 split(s).\n",
      "\n",
      "                  Fold 1  Fold 2  Fold 3  Fold 4  Fold 5  Mean    Std     \n",
      "RMSE (testset)    0.9892  0.9888  0.9871  0.9926  0.9787  0.9873  0.0046  \n",
      "MAE (testset)     0.7847  0.7851  0.7849  0.7919  0.7809  0.7855  0.0036  \n",
      "Fit time          0.34    0.35    0.36    0.35    0.36    0.35    0.00    \n",
      "Test time         0.39    0.07    0.07    0.07    0.07    0.14    0.13    \n"
     ]
    }
   ],
   "source": [
    "from surprise import BaselineOnly\n",
    "bsl_options = {'method': 'sgd',\n",
    "               'learning_rate': .00005,\n",
    "           plt.hist(data_df['tenure'], bins = 30, color = \"green\")    }\n",
    "algo = BaselineOnly(bsl_options=bsl_options)\n",
    "cv_SGD= cross_validate(algo, data, measures = ['RMSE', 'MAE'], cv = 5, verbose = True)"
   ]
  },
  {
   "cell_type": "code",
   "execution_count": null,
   "id": "6e66065f",
   "metadata": {},
   "outputs": [],
   "source": []
  },
  {
   "cell_type": "code",
   "execution_count": 28,
   "id": "1c2a43d6",
   "metadata": {},
   "outputs": [
    {
     "data": {
      "text/plain": [
       "{'test_rmse': array([1.41769344, 1.42034188]),\n",
       " 'test_mae': array([1.13381167, 1.13483171]),\n",
       " 'fit_time': (0.053510189056396484, 0.07787489891052246),\n",
       " 'test_time': (0.4140450954437256, 0.2897069454193115)}"
      ]
     },
     "execution_count": 28,
     "metadata": {},
     "output_type": "execute_result"
    }
   ],
   "source": [
    "from surprise import NormalPredictor\n",
    "from surprise.model_selection import cross_validate\n",
    "\n",
    "# df = pd.DataFrame(data)\n",
    "df = pd.DataFrame(data.raw_ratings, columns=[\"userId\", \"movieId\", \"rating\", \"timestamp\"])\n",
    "\n",
    "# A reader is still needed but only the rating_scale param is requiered.\n",
    "reader = Reader(rating_scale=(1, 5))\n",
    "\n",
    "# The columns must correspond to user id, item id and ratings (in that order).\n",
    "data_1 = Dataset.load_from_df(df[[\"userId\", \"movieId\", \"rating\"]], reader)\n",
    "\n",
    "# We can now use this dataset as we please, e.g. calling cross_validate\n",
    "cross_validate(NormalPredictor(), data_1, cv=2)"
   ]
  },
  {
   "cell_type": "code",
   "execution_count": null,
   "id": "87f8e3ac",
   "metadata": {},
   "outputs": [],
   "source": []
  },
  {
   "cell_type": "code",
   "execution_count": null,
   "id": "0034b03f",
   "metadata": {},
   "outputs": [],
   "source": []
  }
 ],
 "metadata": {
  "kernelspec": {
   "display_name": "Python 3 (ipykernel)",
   "language": "python",
   "name": "python3"
  },
  "language_info": {
   "codemirror_mode": {
    "name": "ipython",
    "version": 3
   },
   "file_extension": ".py",
   "mimetype": "text/x-python",
   "name": "python",
   "nbconvert_exporter": "python",
   "pygments_lexer": "ipython3",
   "version": "3.9.15"
  }
 },
 "nbformat": 4,
 "nbformat_minor": 5
}
